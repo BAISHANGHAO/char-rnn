{
 "cells": [
  {
   "cell_type": "code",
   "execution_count": 25,
   "id": "3cc61091",
   "metadata": {},
   "outputs": [
    {
     "name": "stdout",
     "output_type": "stream",
     "text": [
      "size is dududu 10 and lengh is lalala 20\n",
      "(30, 50)\n",
      "(-10, -10)\n",
      "(200, 600)\n",
      "(0.5, 0.6666666666666666)\n",
      "(10, 20)\n",
      "(100000000000000000000, 1073741824000000000000000000000000000000)\n"
     ]
    }
   ],
   "source": [
    "class MyClass:\n",
    "    def __init__(self,size,lengh):\n",
    "        self.size=size\n",
    "        self.lengh=lengh\n",
    "    def __str__(self): \n",
    "        return f\"size is dududu {self.size} and lengh is lalala {self.lengh}\"\n",
    "    def __add__(self,other):\n",
    "        return (self.size+other.size,self.lengh+other.lengh)\n",
    "    def __sub__(self,other):\n",
    "        return (self.size-other.size,self.lengh-other.lengh)\n",
    "    def __mul__(self,other):\n",
    "        return (self.size*other.size,self.lengh*other.lengh)\n",
    "    def __truediv__(self,other):\n",
    "        return (self.size/other.size,self.lengh/other.lengh)\n",
    "    def __mod__(self,other):\n",
    "        return (self.size%other.size,self.lengh%other.lengh)\n",
    "    def __pow__(self,other):\n",
    "        return (self.size**other.size,self.lengh**other.lengh)\n",
    "a=MyClass(10,20)\n",
    "b=MyClass(20,30)\n",
    "print(a)\n",
    "print(a+b)\n",
    "print(a-b)\n",
    "print(a*b)\n",
    "print(a/b)\n",
    "print(a%b)\n",
    "print(a**b)"
   ]
  }
 ],
 "metadata": {
  "kernelspec": {
   "display_name": "Python 3",
   "language": "python",
   "name": "python3"
  },
  "language_info": {
   "codemirror_mode": {
    "name": "ipython",
    "version": 3
   },
   "file_extension": ".py",
   "mimetype": "text/x-python",
   "name": "python",
   "nbconvert_exporter": "python",
   "pygments_lexer": "ipython3",
   "version": "3.12.10"
  }
 },
 "nbformat": 4,
 "nbformat_minor": 5
}
