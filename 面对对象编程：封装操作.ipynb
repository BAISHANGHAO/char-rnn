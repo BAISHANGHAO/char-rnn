{
 "cells": [
  {
   "cell_type": "code",
   "execution_count": 19,
   "id": "172d195c",
   "metadata": {},
   "outputs": [
    {
     "name": "stdout",
     "output_type": "stream",
     "text": [
      "lala2\n",
      "男\n"
     ]
    }
   ],
   "source": [
    "class person:\n",
    "    def __init__(self):\n",
    "        self._name = 'lala' #受保护的属性，只能在类内被调用，在外面无法输出和修改\n",
    "        self.__age = 54 #私有属性，可以输出可以修改但是不能import\n",
    "        self.gender ='男'\n",
    "pe=person()\n",
    "pe._name = 'lala2'\n",
    "print(pe._name)\n",
    "print(pe.gender)\n",
    "#print(pe.__age) #无法输出\n",
    "\n",
    "    "
   ]
  }
 ],
 "metadata": {
  "kernelspec": {
   "display_name": "Python 3",
   "language": "python",
   "name": "python3"
  },
  "language_info": {
   "codemirror_mode": {
    "name": "ipython",
    "version": 3
   },
   "file_extension": ".py",
   "mimetype": "text/x-python",
   "name": "python",
   "nbconvert_exporter": "python",
   "pygments_lexer": "ipython3",
   "version": "3.12.10"
  }
 },
 "nbformat": 4,
 "nbformat_minor": 5
}
